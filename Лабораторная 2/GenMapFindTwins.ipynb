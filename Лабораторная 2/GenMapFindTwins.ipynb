{
 "cells": [
  {
   "cell_type": "markdown",
   "id": "90aad161",
   "metadata": {},
   "source": [
    "Создать функцию(или класс), которая вернет карту для игры “найди пару” в зависимости от входящих параметров.\n",
    "- Входящие параметры:\n",
    "  - высота игрового поля (по умолчанию = 9)\n",
    "  - ширина игрового поля (по умолчанию = 9)\n",
    "  - строка с символами для генерации одинаковых пар (по умолчанию = 10)\n",
    "  - режим генерации, сколько одинаковых символом будет на карте по : 2, 3, 4.\n",
    "- Проверка:\n",
    "  - показать использование этой функции на различных примерах с различными параметрами\n"
   ]
  },
  {
   "cell_type": "code",
   "execution_count": 3,
   "id": "f720ecbd",
   "metadata": {
    "polyglot_notebook": {
     "kernelName": "csharp"
    }
   },
   "outputs": [],
   "source": [
    "using System;\n",
    "static Random random = new Random();"
   ]
  },
  {
   "cell_type": "code",
   "execution_count": 4,
   "id": "6a6d34b3",
   "metadata": {
    "polyglot_notebook": {
     "kernelName": "csharp"
    }
   },
   "outputs": [],
   "source": [
    "static string ShuffleString(string str)\n",
    "    {\n",
    "        char[] characters = str.ToCharArray();\n",
    "\n",
    "        for (int i = characters.Length - 1; i > 0; i--)\n",
    "        {\n",
    "            int j = random.Next(0, i + 1); \n",
    "            char temp = characters[i];\n",
    "            characters[i] = characters[j];\n",
    "            characters[j] = temp;\n",
    "        }\n",
    "\n",
    "        return new string(characters);\n",
    "    }"
   ]
  },
  {
   "cell_type": "code",
   "execution_count": 5,
   "id": "d7fd408b",
   "metadata": {
    "polyglot_notebook": {
     "kernelName": "csharp"
    }
   },
   "outputs": [
    {
     "name": "stdout",
     "output_type": "stream",
     "text": [
      "   У    Х    D    I    U    Ф    П    П    0 \n",
      "   D    П    N    П    N    I    0    U    Х \n",
      "   p    Ф    p    p    N    N    Х    U    p \n",
      "   Ф    p    0    I    I    I    I    П    У \n",
      "   У    Х    N    N    U    П    U    У    N \n",
      "   П    D    D    D    0    Ф    I    0    0 \n",
      "   Х    D    I    У    Х    Х    У    Ф    N \n",
      "   У    p    Ф    Х    U    D    0    Ф    У \n",
      "   П    p    Ф    U    D    p    U    0    p \n"
     ]
    }
   ],
   "source": [
    "public void GenMapFindTwins(int rows = 9, int cols = 9, int col_symbols = 10)\n",
    "    {\n",
    "        char [,] map = new char[rows, cols];\n",
    "        string str = \"АБВГДЕЁЖЗИЙКЛМНОПРСТУФХЦЧШЩЪЫЬЭЮЯ\" + \"ABCDEFGHIJKLMNOPQRSTUVWXYZabcdefghijklmnopqrstuvwxyz\" + \"0123456789\";\n",
    "        str = ShuffleString(str);\n",
    "        str = str.Substring(0, col_symbols);\n",
    "        int col_symbols_in_pair = rows*cols/col_symbols;\n",
    "        string new_str = \"\";\n",
    "        foreach (char  i in str)\n",
    "            for (int j=0; j<col_symbols_in_pair; j++)\n",
    "                new_str += i;\n",
    "        new_str = ShuffleString(new_str);\n",
    "        for (int i = 0; i<(rows*cols - new_str.Length)+1; i++)\n",
    "            new_str += str.Substring(i, i+1);\n",
    "        char [] ch_ar = new_str.ToCharArray();\n",
    "        int k = 0;\n",
    "        for (int i=0; i<rows; i++)\n",
    "        {\n",
    "            for (int j=0; j<cols; j++)\n",
    "            {\n",
    "                map[i,j] = ch_ar[k];\n",
    "                k++;\n",
    "                Console.Write($\"{map[i, j],4} \");\n",
    "            }\n",
    "            Console.WriteLine();\n",
    "        }\n",
    "    }\n",
    "\n",
    "\n",
    "GenMapFindTwins()"
   ]
  },
  {
   "cell_type": "code",
   "execution_count": 6,
   "id": "15e5c028",
   "metadata": {
    "polyglot_notebook": {
     "kernelName": "csharp"
    }
   },
   "outputs": [
    {
     "name": "stdout",
     "output_type": "stream",
     "text": [
      "   L    Q    D    Х \n",
      "   Х    Й    У    У \n",
      "   Й    D    L    f \n",
      "   M    Q    M    f \n"
     ]
    }
   ],
   "source": [
    "GenMapFindTwins(4, 4, 8)"
   ]
  },
  {
   "cell_type": "code",
   "execution_count": 7,
   "id": "624e1153",
   "metadata": {
    "polyglot_notebook": {
     "kernelName": "csharp"
    }
   },
   "outputs": [
    {
     "name": "stdout",
     "output_type": "stream",
     "text": [
      "   А    К    Г    Ъ    З    Ф    7    Ф \n",
      "   n    p    j    Е    Р    Ф    З    7 \n",
      "   L    p    К    L    2    К    Е    Р \n",
      "   7    5    У    2    n    L    Е    j \n",
      "   p    Р    Е    Г    7    А    Ф    5 \n",
      "   2    2    Р    5    n    Ъ    А    p \n",
      "   Г    5    З    j    Г    У    L    А \n",
      "   К    n    У    Ъ    З    j    Ъ    У \n"
     ]
    }
   ],
   "source": [
    "GenMapFindTwins(8, 8, 16)"
   ]
  }
 ],
 "metadata": {
  "kernelspec": {
   "display_name": ".NET (C#)",
   "language": "C#",
   "name": ".net-csharp"
  },
  "polyglot_notebook": {
   "kernelInfo": {
    "defaultKernelName": "csharp",
    "items": [
     {
      "aliases": [],
      "languageName": "csharp",
      "name": "csharp"
     }
    ]
   }
  }
 },
 "nbformat": 4,
 "nbformat_minor": 5
}
