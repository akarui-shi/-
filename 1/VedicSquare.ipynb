{
 "cells": [
  {
   "cell_type": "markdown",
   "metadata": {},
   "source": [
    "Создать класс(ы) с методами: \n",
    "- вернуть таблицу пифагора в виде двумерного массива целых чисел;\n",
    "- вернуть ведический квадрат в виде двумерного массива целых чисел;\n",
    "- вернуть узор по числу в виде двумерного массива;\n",
    "- красивый вывод всех этих данных в консоль."
   ]
  },
  {
   "cell_type": "code",
   "execution_count": null,
   "metadata": {
    "polyglot_notebook": {
     "kernelName": "csharp"
    }
   },
   "outputs": [],
   "source": [
    "// Таблица Пифагора\n",
    "\n",
    "public class PythagorianTable\n",
    "{\n",
    "    public int[,] Create(int rows, int columns)\n",
    "    {\n",
    "        int[,] table = new int[rows, columns];\n",
    "        \n",
    "        for (int i = 1; i <= rows; i++)\n",
    "        {\n",
    "            for (int j = 1; j <= columns; j++)\n",
    "            {\n",
    "                table[i - 1, j - 1] = i * j;\n",
    "            }\n",
    "        }\n",
    "        return table;\n",
    "    }\n",
    "\n",
    "    public void PrintTable(int[,] table)\n",
    "    {\n",
    "        int rows = table.GetLength(0);\n",
    "        int columns = table.GetLength(1);\n",
    "\n",
    "        for (int i = 0; i < rows; i++)\n",
    "        {\n",
    "            for (int j = 0; j < columns; j++)\n",
    "            {\n",
    "                Console.Write($\"{table[i, j],4} \");\n",
    "            }\n",
    "            Console.WriteLine();\n",
    "        }\n",
    "    }\n",
    "\n",
    "}"
   ]
  },
  {
   "cell_type": "code",
   "execution_count": 2,
   "metadata": {
    "polyglot_notebook": {
     "kernelName": "csharp"
    }
   },
   "outputs": [
    {
     "name": "stdout",
     "output_type": "stream",
     "text": [
      "   1    2    3    4    5    6    7    8    9 \n",
      "   2    4    6    8   10   12   14   16   18 \n",
      "   3    6    9   12   15   18   21   24   27 \n",
      "   4    8   12   16   20   24   28   32   36 \n",
      "   5   10   15   20   25   30   35   40   45 \n",
      "   6   12   18   24   30   36   42   48   54 \n",
      "   7   14   21   28   35   42   49   56   63 \n",
      "   8   16   24   32   40   48   56   64   72 \n",
      "   9   18   27   36   45   54   63   72   81 \n",
      "  10   20   30   40   50   60   70   80   90 \n",
      "  11   22   33   44   55   66   77   88   99 \n"
     ]
    }
   ],
   "source": [
    "PythagorianTable pythagorianTable = new PythagorianTable();\n",
    "\n",
    "int rows = 11;\n",
    "int columns = 9;\n",
    "\n",
    "int[,] table = pythagorianTable.Create(rows, columns);\n",
    "pythagorianTable.PrintTable(table);"
   ]
  },
  {
   "cell_type": "code",
   "execution_count": 4,
   "metadata": {
    "polyglot_notebook": {
     "kernelName": "csharp"
    }
   },
   "outputs": [],
   "source": [
    "// Ведическая таблица\n",
    "\n",
    "public class VedicTable\n",
    "{\n",
    "    public int[,] Create(int rows, int columns)\n",
    "    {\n",
    "        int[,] table = new int[rows, columns];\n",
    "        PythagorianTable pythagoreanTable = new PythagorianTable();\n",
    "        var p_table = pythagoreanTable.Create(rows, columns);\n",
    "        \n",
    "        for (int i = 1; i <= rows; i++)\n",
    "        {\n",
    "            for (int j = 1; j <= columns; j++)\n",
    "            {\n",
    "                var num = p_table[i-1, j-1];\n",
    "                int new_num;\n",
    "                while (num > 9){\n",
    "                    new_num = 0;\n",
    "                    while (num>0){\n",
    "                        new_num += num%10;\n",
    "                        num = num/10;\n",
    "                    }\n",
    "                    num = new_num;\n",
    "                }\n",
    "                table[i-1, j-1] = num;\n",
    "            }\n",
    "        }\n",
    "        return table;\n",
    "    }\n",
    "\n",
    "    public char[,] DesignWithNumber(int rows, int columns, int symbol, bool solid)\n",
    "    {\n",
    "        char[,] table = new char[rows, columns];\n",
    "        PythagorianTable pythagoreanTable = new PythagorianTable();\n",
    "        var p_table = pythagoreanTable.Create(rows, columns);\n",
    "        \n",
    "        for (int i = 1; i <= rows; i++)\n",
    "        {\n",
    "            for (int j = 1; j <= columns; j++)\n",
    "            {\n",
    "                var num = p_table[i-1, j-1];\n",
    "                int new_num;\n",
    "                while (num > 9){\n",
    "                    new_num = 0;\n",
    "                    while (num>0){\n",
    "                        new_num += num%10;\n",
    "                        num = num/10;\n",
    "                    }\n",
    "                    num = new_num;\n",
    "                }\n",
    "                if (num == symbol){\n",
    "                    if (solid){\n",
    "                        table[i-1, j-1] = '■';\n",
    "                    }\n",
    "                    else{\n",
    "                        table[i-1, j-1] = symbol.ToString()[0];\n",
    "                    }\n",
    "                    \n",
    "                }\n",
    "                else{\n",
    "                    if (solid){\n",
    "                        table[i-1, j-1] = '□';\n",
    "                    }\n",
    "                    else{\n",
    "                        table[i-1, j-1] = '0';\n",
    "                    }\n",
    "                }\n",
    "            }\n",
    "        }\n",
    "        return table;\n",
    "    }\n",
    "\n",
    "    public void PrintTable(int[,] table)\n",
    "    {\n",
    "        int rows = table.GetLength(0);\n",
    "        int columns = table.GetLength(1);\n",
    "\n",
    "        for (int i = 0; i < rows; i++)\n",
    "        {\n",
    "            for (int j = 0; j < columns; j++)\n",
    "            {\n",
    "                Console.Write($\"{table[i, j],4} \");\n",
    "            }\n",
    "            Console.WriteLine();\n",
    "        }\n",
    "    }\n",
    "\n",
    "    public void PrintCharTable(char[,] table)\n",
    "    {\n",
    "        int rows = table.GetLength(0);\n",
    "        int columns = table.GetLength(1);\n",
    "\n",
    "        for (int i = 0; i < rows; i++)\n",
    "        {\n",
    "            for (int j = 0; j < columns; j++)\n",
    "            {\n",
    "                Console.Write($\"{table[i, j],4} \");\n",
    "            }\n",
    "            Console.WriteLine();\n",
    "        }\n",
    "    }\n",
    "\n",
    "}"
   ]
  },
  {
   "cell_type": "code",
   "execution_count": 5,
   "metadata": {
    "polyglot_notebook": {
     "kernelName": "csharp"
    }
   },
   "outputs": [
    {
     "name": "stdout",
     "output_type": "stream",
     "text": [
      "   1    2    3    4    5    6    7    8    9 \n",
      "   2    4    6    8    1    3    5    7    9 \n",
      "   3    6    9    3    6    9    3    6    9 \n",
      "   4    8    3    7    2    6    1    5    9 \n",
      "   5    1    6    2    7    3    8    4    9 \n",
      "   6    3    9    6    3    9    6    3    9 \n",
      "   7    5    3    1    8    6    4    2    9 \n",
      "   8    7    6    5    4    3    2    1    9 \n",
      "   9    9    9    9    9    9    9    9    9 \n"
     ]
    }
   ],
   "source": [
    "VedicTable v_table = new VedicTable();\n",
    "\n",
    "int rows = 9;\n",
    "int columns = 9;\n",
    "\n",
    "var table = v_table.Create(rows, columns);\n",
    "v_table.PrintTable(table)"
   ]
  },
  {
   "cell_type": "code",
   "execution_count": 6,
   "metadata": {
    "polyglot_notebook": {
     "kernelName": "csharp"
    }
   },
   "outputs": [
    {
     "name": "stdout",
     "output_type": "stream",
     "text": [
      "   0    0    3    0    0    0    0    0    0 \n",
      "   0    0    0    0    0    3    0    0    0 \n",
      "   3    0    0    3    0    0    3    0    0 \n",
      "   0    0    3    0    0    0    0    0    0 \n",
      "   0    0    0    0    0    3    0    0    0 \n",
      "   0    3    0    0    3    0    0    3    0 \n",
      "   0    0    3    0    0    0    0    0    0 \n",
      "   0    0    0    0    0    3    0    0    0 \n",
      "   0    0    0    0    0    0    0    0    0 \n"
     ]
    }
   ],
   "source": [
    "var table = v_table.DesignWithNumber(rows, columns, 3, false);\n",
    "v_table.PrintCharTable(table)"
   ]
  },
  {
   "cell_type": "code",
   "execution_count": 7,
   "metadata": {
    "polyglot_notebook": {
     "kernelName": "csharp"
    }
   },
   "outputs": [
    {
     "name": "stdout",
     "output_type": "stream",
     "text": [
      "   □    □    ■    □    □    □    □    □    □ \n",
      "   □    □    □    □    □    ■    □    □    □ \n",
      "   ■    □    □    ■    □    □    ■    □    □ \n",
      "   □    □    ■    □    □    □    □    □    □ \n",
      "   □    □    □    □    □    ■    □    □    □ \n",
      "   □    ■    □    □    ■    □    □    ■    □ \n",
      "   □    □    ■    □    □    □    □    □    □ \n",
      "   □    □    □    □    □    ■    □    □    □ \n",
      "   □    □    □    □    □    □    □    □    □ \n"
     ]
    }
   ],
   "source": [
    "var table = v_table.DesignWithNumber(rows, columns, 3, true);\n",
    "v_table.PrintCharTable(table)"
   ]
  }
 ],
 "metadata": {
  "kernelspec": {
   "display_name": ".NET (C#)",
   "language": "C#",
   "name": ".net-csharp"
  },
  "polyglot_notebook": {
   "kernelInfo": {
    "defaultKernelName": "csharp",
    "items": [
     {
      "aliases": [],
      "languageName": "csharp",
      "name": "csharp"
     }
    ]
   }
  }
 },
 "nbformat": 4,
 "nbformat_minor": 2
}
