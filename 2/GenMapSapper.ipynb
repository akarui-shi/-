{
 "cells": [
  {
   "cell_type": "markdown",
   "id": "4e830ca2",
   "metadata": {},
   "source": [
    "Создать функцию(или класс), которая вернет карту для игры Сапер в зависимости от входящих параметров.\n",
    "Карта - это заполненная матрица, где, например, мина обозначается '*', а пустые клетки заполнены числами от 0 до 8, что соответствует количеству мин, которые соприкасаются с этой клеткой.\n",
    "- Входящие параметры:\n",
    "  - высота игрового поля (по умолчанию = 9)\n",
    "  - ширина игрового поля (по умолчанию = 9)\n",
    "  - количество случайно расставленных мин на поле (по умолчанию = 10)\n",
    "  - кортеж мин с точными координатами (необязательный, например, ((1,1),(2,3),(1,4)) т.е. на поле разместить три мины)\n",
    "  - координаты первого хода (т.е. эта клетка должна быть точно без мины) (по умолчанию = none)\n",
    "- Проверка:\n",
    "  - показать использование этой функции на различных примерах с различными параметрами\n",
    "- Пример результата:\n",
    "\n",
    "01*10001*\n",
    "012210011\n",
    "013*20000\n",
    "01**20000"
   ]
  },
  {
   "cell_type": "code",
   "execution_count": 1,
   "id": "14c4d828",
   "metadata": {
    "polyglot_notebook": {
     "kernelName": "csharp"
    }
   },
   "outputs": [
    {
     "name": "stdout",
     "output_type": "stream",
     "text": [
      "   1    2    *    2    2    *    *    3    *    1 \n",
      "   *    3    3    *    3    5    *    4    1    1 \n",
      "   2    *    2    2    *    3    *    2    0    0 \n",
      "   2    3    4    3    2    2    1    1    0    0 \n",
      "   1    *    *    *    2    2    2    1    0    0 \n",
      "   2    3    4    2    2    *    *    1    0    0 \n",
      "   3    *    2    1    2    4    3    3    1    1 \n",
      "   *    *    3    2    *    3    *    2    *    1 \n",
      "   2    4    *    3    3    *    3    3    2    2 \n",
      "   0    3    *    5    4    *    2    1    *    1 \n",
      "   1    3    *    *    *    2    2    2    2    1 \n",
      "   *    4    4    5    3    2    2    *    2    1 \n",
      "   *    3    *    *    1    1    *    2    2    * \n"
     ]
    }
   ],
   "source": [
    "using System;\n",
    "Random random = new Random();\n",
    "\n",
    "public void GenMapSapper(int rows = 9, int cols = 9, int col_mines = 10)\n",
    "    {\n",
    "        int [ , ] map = new int [rows, cols];\n",
    "\n",
    "        // Заполнение карты минами\n",
    "        (int X, int Y)[] mines = new (int, int)[col_mines];\n",
    "        for (int i = 0; i < mines.Length; i++)\n",
    "        {\n",
    "            (int, int) mine = (random.Next(0, rows), random.Next(0, cols));\n",
    "            while (mines.Contains(mine)){\n",
    "                mine = (random.Next(0, 9), random.Next(0, 9));\n",
    "            }\n",
    "            mines[i] = mine;\n",
    "            map[mine.Item1, mine.Item2] = -1;\n",
    "        }\n",
    "\n",
    "\n",
    "\n",
    "        // Заполнение карты числами\n",
    "        int num = 0;\n",
    "        for (int i = 0; i < rows; i++)\n",
    "        {\n",
    "            for (int j = 0; j < cols; j++)\n",
    "            {\n",
    "                num = 0;\n",
    "                if (i>0 && (map[i-1, j] == -1))\n",
    "                {\n",
    "                    num += 1;\n",
    "                }\n",
    "                if (i<rows-1 && (map[i+1, j] == -1))\n",
    "                {\n",
    "                    num += 1;\n",
    "                }\n",
    "                if (j>0 && (map[i, j-1] == -1))\n",
    "                {\n",
    "                    num += 1;\n",
    "                }\n",
    "                if (j<cols-1 && (map[i, j+1] == -1))\n",
    "                {\n",
    "                    num += 1;\n",
    "                }\n",
    "                if (j<cols-1 && i<rows-1 && (map[i+1, j+1] == -1))\n",
    "                {\n",
    "                    num += 1;\n",
    "                }\n",
    "                if (j<cols-1 && i>0 && (map[i-1, j+1] == -1))\n",
    "                {\n",
    "                    num += 1;\n",
    "                }\n",
    "                if (j>0 && i>0 && (map[i-1, j-1] == -1))\n",
    "                {\n",
    "                    num += 1;\n",
    "                }\n",
    "                if (j>0 && i<rows-1 && (map[i+1, j-1] == -1))\n",
    "                {\n",
    "                    num += 1;\n",
    "                }\n",
    "\n",
    "\n",
    "                if (map [i, j] == 0){\n",
    "                    map [i, j] = num;\n",
    "                }\n",
    "                if (map [i, j] == -1){\n",
    "                    Console.Write($\"{'*',4} \");\n",
    "                }\n",
    "                else {Console.Write($\"{map[i, j],4} \");}\n",
    "            }\n",
    "            Console.WriteLine();\n",
    "        }\n",
    "        \n",
    "        \n",
    "    }\n",
    "GenMapSapper(13, 10, 36);"
   ]
  }
 ],
 "metadata": {
  "kernelspec": {
   "display_name": ".NET (C#)",
   "language": "C#",
   "name": ".net-csharp"
  },
  "polyglot_notebook": {
   "kernelInfo": {
    "defaultKernelName": "csharp",
    "items": [
     {
      "aliases": [],
      "languageName": "csharp",
      "name": "csharp"
     }
    ]
   }
  }
 },
 "nbformat": 4,
 "nbformat_minor": 5
}
